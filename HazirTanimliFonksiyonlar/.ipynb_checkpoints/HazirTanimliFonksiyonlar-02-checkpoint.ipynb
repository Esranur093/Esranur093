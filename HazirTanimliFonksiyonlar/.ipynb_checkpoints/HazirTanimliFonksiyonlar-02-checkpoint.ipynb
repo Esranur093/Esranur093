{
 "cells": [
  {
   "cell_type": "markdown",
   "metadata": {},
   "source": [
    "## Hazır Tanımlı Fonksiyonlar - String Fonksiyonları"
   ]
  },
  {
   "cell_type": "markdown",
   "metadata": {},
   "source": [
    "#### Stringteki Belirli Karakterleri Değiştirme\n",
    "1. replace() komutu: Bir string içerisindeki belirli bir karakter veya karakterleri değiştirmek için kullanılır"
   ]
  },
  {
   "cell_type": "code",
   "execution_count": 17,
   "metadata": {},
   "outputs": [
    {
     "name": "stdout",
     "output_type": "stream",
     "text": [
      "ogunb*r*nc*\n",
      "ogunbogunnnnnrogunnnnnncogunnnnn\n"
     ]
    }
   ],
   "source": [
    "string=string2=string3=\"ogunbirinci\"\n",
    "\n",
    "string=string.replace(\"i\",\"*\")\n",
    "string2=string2.replace(\"ogun\",\"*\")\n",
    "\n",
    "print(string)\n",
    "print(string2)"
   ]
  },
  {
   "cell_type": "markdown",
   "metadata": {},
   "source": [
    "#### Stringi Büyük-Küçük Harfe Çevirme\n",
    "1. upper() komutu: Tüm karakterleri büyük harfe çevirmek için kullanılır\n",
    "2. lower() komutu: Tüm karakterleri küçük harfe çevirmek için kullanılır"
   ]
  },
  {
   "cell_type": "code",
   "execution_count": null,
   "metadata": {},
   "outputs": [],
   "source": []
  },
  {
   "cell_type": "markdown",
   "metadata": {},
   "source": [
    "#### Stringin İlk Harfini Büyük Harfe Çevirme- Tüm Kelimeleri Büyük Harfe Çevirme-  Büyük Harfleri Küçük & Küçük Harfleri Büyük Harfe Çevirme\n",
    "1. capitalize() komutu: Stringin sadece ilk harfini büyük harfe çevirmek için kullanılır\n",
    "2. title() komutu: Her kelimenin ilk harfini büyük harfe çevirmek için kullanılır\n",
    "3. swapcase() komutu: Stringteki tüm büyük harfleri küçük harfe, küçük harfleri de büyük harfe  çevirmek için kullanılır"
   ]
  },
  {
   "cell_type": "code",
   "execution_count": null,
   "metadata": {},
   "outputs": [],
   "source": []
  },
  {
   "cell_type": "markdown",
   "metadata": {},
   "source": [
    "#### Stringteki Gereksiz Karakterlerden Kurtulma\n",
    "1. strip() komutu: Bir stringteki \"\\n\",\" \",\"\\t\",\"\\r\",\"\\v\" karakterlerinden kurtulmak için kullanılır\n",
    "2. lstrip() komutu: Bir stringin solundaki \"\\n\",\" \",\"\\t\",\"\\r\",\"\\v\" karakterlerinden kurtulmak için kullanılır\n",
    "3. rstrip() komutu: Bir stringin sağındaki \"\\n\",\" \",\"\\t\",\"\\r\",\"\\v\" karakterlerinden kurtulmak için kullanılır"
   ]
  },
  {
   "cell_type": "code",
   "execution_count": null,
   "metadata": {},
   "outputs": [],
   "source": []
  },
  {
   "cell_type": "markdown",
   "metadata": {},
   "source": [
    "#### Stringin Başlangıç ve Bitişini Kontrol Etme\n",
    "1. startswith() komutu: Bir stringin verilen karakter veya karakterler ile başlayıp başlamadığını sorgulamak için kullanılır.\n",
    "2. endswith() komutu: Bir stringin verilen karakter veya karakterler ile bitip bitmediğini sorgulamak için kullanılır."
   ]
  },
  {
   "cell_type": "code",
   "execution_count": null,
   "metadata": {},
   "outputs": [],
   "source": []
  },
  {
   "cell_type": "code",
   "execution_count": null,
   "metadata": {},
   "outputs": [],
   "source": []
  },
  {
   "cell_type": "code",
   "execution_count": null,
   "metadata": {},
   "outputs": [],
   "source": []
  },
  {
   "cell_type": "code",
   "execution_count": null,
   "metadata": {},
   "outputs": [],
   "source": []
  }
 ],
 "metadata": {
  "kernelspec": {
   "display_name": "Python 3",
   "language": "python",
   "name": "python3"
  },
  "language_info": {
   "codemirror_mode": {
    "name": "ipython",
    "version": 3
   },
   "file_extension": ".py",
   "mimetype": "text/x-python",
   "name": "python",
   "nbconvert_exporter": "python",
   "pygments_lexer": "ipython3",
   "version": "3.8.5"
  }
 },
 "nbformat": 4,
 "nbformat_minor": 4
}
