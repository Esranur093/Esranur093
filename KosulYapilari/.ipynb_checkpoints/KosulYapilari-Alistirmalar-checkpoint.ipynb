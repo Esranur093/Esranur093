{
 "cells": [
  {
   "cell_type": "markdown",
   "metadata": {},
   "source": [
    "## Koşul Yapıları- Alıştırma"
   ]
  },
  {
   "cell_type": "markdown",
   "metadata": {},
   "source": [
    "#### Hesap Makinesi Yapalım\n",
    "\n",
    "Kullanıcının basit aritmetik işlemleri yaptırabileceği bir hesap makinesi yapacağız; toplama,çıkarma,çarpma,bölme,üs ve mod alma işlemlerinin sonucu hesaplanabilecek.\n",
    "\n",
    "Koşul 1-> Girilen operatör (+,-,*,/,^,%) olmalı"
   ]
  },
  {
   "cell_type": "code",
   "execution_count": null,
   "metadata": {},
   "outputs": [],
   "source": []
  },
  {
   "cell_type": "markdown",
   "metadata": {},
   "source": [
    "#### Bankamatik Programı Yapalım\n",
    "\n",
    "Kullanıcının belirli bir bakiyesinin ve günlük para çekme limitinin olduğu bir bankamatik programı yapacağız. Kullanıcı para çekme, para yatırma ve bakiye görüntüleme işlemlerini belirli sorgulara göre yapabilecek.\n",
    "\n",
    "Koşul 1-> Kullanıcının çekmek istediği para miktarı bakiyesinden fazla olamaz!\n",
    "\n",
    "Koşul 2-> Kullanıcının çekmek istediği para miktarı günlük para çekme limitinden fazla olamaz!"
   ]
  },
  {
   "cell_type": "code",
   "execution_count": null,
   "metadata": {},
   "outputs": [],
   "source": []
  }
 ],
 "metadata": {
  "kernelspec": {
   "display_name": "Python 3",
   "language": "python",
   "name": "python3"
  },
  "language_info": {
   "codemirror_mode": {
    "name": "ipython",
    "version": 3
   },
   "file_extension": ".py",
   "mimetype": "text/x-python",
   "name": "python",
   "nbconvert_exporter": "python",
   "pygments_lexer": "ipython3",
   "version": "3.8.5"
  }
 },
 "nbformat": 4,
 "nbformat_minor": 4
}
