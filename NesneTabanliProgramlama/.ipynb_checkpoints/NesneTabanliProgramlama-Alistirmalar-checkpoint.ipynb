{
 "cells": [
  {
   "cell_type": "markdown",
   "metadata": {},
   "source": [
    "## Kompleks Sayılar Sınıfı\n",
    "\n",
    "#### Açıklama:\n",
    "\n",
    "complexNumber isminde bir sınıf oluşturun ve aşağıdaki nitelik,metotlara sahip olsun.\n",
    "\n",
    "###### Nesne Nitelikleri:\n",
    "gercekKisim,sanalKisim\n",
    "\n",
    "###### Metotlar\n",
    "\n",
    "complexToplam: Fonksiyon dışarıdan bir complexSayi nesnesi alacak ve hangi nesne üzerinden çağırıldıysa bu iki complexSayiyi toplayıp sonucu döndürecek.\n",
    "\n",
    "complexCarpim: Fonksiyon dışarıdan bir complexSayi nesnesi alacak ve hangi nesne üzerinden çağırıldıysa bu iki complexSayiyi çarpıp sonucu döndürecek.\n",
    "\n",
    "NOT: gercekKisim=ilkSayinin gercekKismi*ikinciSayinin gercekKismi-ilkSayinin sanalKismi*ikinciSayinin sanalKismi\n",
    "\n",
    "     sanalKisim=ilkSayinin gercekKismi*ikinciSayinin sanalKismi+ilkSayinin sanalKismi*ikinciSayinin gercekKismi\n",
    "     \n",
    "\n",
    "sabitCarpim: Fonksiyon dışarıdan bir sabit değer alacak, hangi nesne üzerinden çağırıldıysa bu complexSayiyi sabit ile çarpıp sonucu geri dönecek\n",
    "\n",
    "negatifeCevir: Fonksiyon dışarıdan bir complexSayi nesnesi alacak ve hangi nesne üzerinden çağırıldıysa bu complexSayiyi negatife çevirecek\n",
    "\n",
    "complexCikarma: Fonksiyon dışarıdan bir complexSayi nesnesi alacak ve hangi nesne üzerinden çağırıldıysa bu iki complexSayiyi çıkartıp sonucu döndürecek."
   ]
  },
  {
   "cell_type": "code",
   "execution_count": 9,
   "metadata": {},
   "outputs": [],
   "source": [
    "class ComplexNumber:\n",
    "    def __init__(self,gercekKisim=0,sanalKisim=0):\n",
    "        self.gercekKisim=gercekKisim\n",
    "        self.sanalKisim=sanalKisim\n",
    "    def complexToplam(self,complexSayi):\n",
    "        toplamComplex=ComplexNumber()\n",
    "        toplamComplex.gercekKisim=self.gercekKisim+complexSayi.gercekKisim\n",
    "        toplamComplex.sanalKisim=self.sanalKisim+complexSayi.sanalKisim\n",
    "        return toplamComplex\n",
    "    def complexCarpim(self,complexSayi):\n",
    "        carpimComplex=ComplexNumber()\n",
    "        carpimComplex.gercekKisim=self.gercekKisim*complexSayi.gercekKisim-self.sanalKisim*complexSayi.sanalKisim\n",
    "        carpimComplex.sanalKisim=self.gercekKisim*complexSayi.sanalKisim+self.sanalKisim*complexSayi.gercekKisim\n",
    "        return carpimComplex\n",
    "    \n",
    "    def sabitCarpim(self,sabit):\n",
    "        sabitComplex=ComplexNumber()\n",
    "        sabitComplex.gercekKisim=self.gercekKisim*sabit\n",
    "        sabitComplex.sanalKisim=self.sanalKisim*sabit\n",
    "        return sabitComplex\n",
    "    \n",
    "    def negatifeCevir(self):\n",
    "        self.gercekKisim*=-1\n",
    "        self.sanalKisim*=-1\n",
    "        \n",
    "    def complexCikarma(self,complexSayi):\n",
    "        complexSayi.negatifeCevir()\n",
    "        cikarmaComplex=self.complexToplam(complexSayi)\n",
    "        return cikarmaComplex\n",
    "    \n",
    "    def complexYazdir(self):\n",
    "        if self.sanalKisim>=0:\n",
    "            print(\"{}+{}i\".format(self.gercekKisim,self.sanalKisim))\n",
    "        else:\n",
    "            print(\"{}{}i\".format(self.gercekKisim,self.sanalKisim))"
   ]
  },
  {
   "cell_type": "code",
   "execution_count": 10,
   "metadata": {},
   "outputs": [
    {
     "name": "stdout",
     "output_type": "stream",
     "text": [
      "5+2i\n",
      "3-8i\n",
      "8-6i\n",
      "31-34i\n",
      "25+10i\n",
      "2+10i\n"
     ]
    }
   ],
   "source": [
    "complex1=ComplexNumber(5,2)\n",
    "complex1.complexYazdir()\n",
    "complex2=ComplexNumber(3,-8)\n",
    "complex2.complexYazdir()\n",
    "complexToplam=complex1.complexToplam(complex2)\n",
    "complexToplam.complexYazdir()\n",
    "complexCarpim=complex1.complexCarpim(complex2)\n",
    "complexCarpim.complexYazdir()\n",
    "sabitCarpim=complex1.sabitCarpim(5)\n",
    "sabitCarpim.complexYazdir()\n",
    "complexCikarma=complex1.complexCikarma(complex2)\n",
    "complexCikarma.complexYazdir()\n"
   ]
  },
  {
   "cell_type": "code",
   "execution_count": null,
   "metadata": {},
   "outputs": [],
   "source": []
  },
  {
   "cell_type": "markdown",
   "metadata": {},
   "source": [
    "## Tarih Sınıfı:\n",
    "\n",
    "#### Açıklama:\n",
    "\n",
    "Tarih isminde bir sınıf oluşturun ve aşağıdaki nitelik,metotlara sahip olsun.\n",
    "\n",
    "###### Sınıf Nitelikleri:\n",
    "aylaraGoreGunler=[31,29,31,30,31,30,31,31,30,31,30,31]\n",
    "\n",
    "ayListesi=[\"Ocak\",\"Subat\",\"Mart\",\"Nisan\",\"Mayis\",\"Haziran\",\"Temmuz\",\"Agustos\",\"Eylul\",\"Ekim\",\"Kasim\",\"Aralik\"]\n",
    "\n",
    "###### Nesne Nitelikleri:\n",
    "gun,ay,yil\n",
    "\n",
    "###### Metotlar\n",
    "\n",
    "gunArttir: Fonksiyon her çağırıldığında, hangi nesne üzerinden çağırılmış ise gün değeri 1 arttırılacak. Eğer ki ay sonu veya yıl sonuna gelindiyse, ay ve yıl değerleri de arttırılacak.\n",
    "\n",
    "tarihYazdir: Fonksiyon hangi nesne üzerinden çağırıldıysa o nesnenin gün,ay,yıl bilgilerini yazdıracak.\n",
    "\n",
    "tarihKarsilastir: Fonksiyon dışarıdan bir Tarih nesnesi alacak ve hangi nesne üzerinden çağırıldıysa bu iki Tarih'i karşılaştıracak."
   ]
  },
  {
   "cell_type": "code",
   "execution_count": null,
   "metadata": {},
   "outputs": [],
   "source": []
  },
  {
   "cell_type": "code",
   "execution_count": null,
   "metadata": {},
   "outputs": [],
   "source": []
  },
  {
   "cell_type": "markdown",
   "metadata": {},
   "source": [
    "## Insan-Ogrenci-Ogretmen Sınıfları:\n",
    "\n",
    "#### Açıklama:\n",
    "\n",
    "Taban sınıf olarak Insan sınıfı, alt sınıflar olarak da Ogrenci ve Ogretmen isminde sınıflar tanımlayınız.\n",
    "\n",
    "### Insan Sınıfı\n",
    "\n",
    "###### Nesne Nitelikleri:\n",
    "\n",
    "isim,soyisim\n",
    "\n",
    "###### Metotlar\n",
    "\n",
    "bilgileriYazdir: Fonksiyon hangi nesne üzerinden çağırıldıysa o nesnenin isim ve soyisim bilgilerini yazdıracak.\n",
    "\n",
    "### Ogrenci Sınıfı\n",
    "\n",
    "###### Sınıf Nitelikleri: \n",
    "ogrenciListesi=[]\n",
    "\n",
    "###### Açıklama:\n",
    "\n",
    "Her yeni Ogrenci nesnesi uretildiğinde bu listeye eklenecek.\n",
    "\n",
    "###### Nesne Nitelikleri:\n",
    "\n",
    "isim,soyisim,ogrenciNo,ogrenciPuan,ogrenciGecmeKalma\n",
    "\n",
    "###### Metotlar\n",
    "\n",
    "bilgileriYazdir: Fonksiyon hangi nesne üzerinden çağırıldıysa o nesnenin isim soyisim,ogrenciNo ve ogrenciPuan bilgilerini yazdıracak.\n",
    "\n",
    "### Ogretmen Sınıfı\n",
    "\n",
    "\n",
    "###### Nesne Nitelikleri:\n",
    "\n",
    "isim,soyisim,departman\n",
    "\n",
    "###### Metotlar\n",
    "\n",
    "bilgileriYazdir: Fonksiyon hangi nesne üzerinden çağırıldıysa o nesnenin isim soyisim,departman bilgilerini yazdıracak.\n",
    "\n",
    "ogrenciGecmeKalmaBelirleme: ogrenciListesi içerisindeki tüm öğrencilerin notlarıyla birlikte bir ortalama hesaplanacak, ortalamadan yüksek olanlar dersi geçecek, düşük olanlar dersten kalacak ve ogrenciGecmeKalma bilgilerine True-False şeklinde atanacak.\n",
    "\n",
    "ogrenciBilgileriniYazdir: Fonksiyon, tüm öğrencilerin bilgilerini dersten geçme-kalma bilgileriyle birlikte yazdıracak.\n",
    "\n"
   ]
  },
  {
   "cell_type": "code",
   "execution_count": null,
   "metadata": {},
   "outputs": [],
   "source": []
  },
  {
   "cell_type": "code",
   "execution_count": null,
   "metadata": {},
   "outputs": [],
   "source": []
  },
  {
   "cell_type": "code",
   "execution_count": null,
   "metadata": {},
   "outputs": [],
   "source": []
  },
  {
   "cell_type": "code",
   "execution_count": null,
   "metadata": {},
   "outputs": [],
   "source": []
  },
  {
   "cell_type": "code",
   "execution_count": null,
   "metadata": {},
   "outputs": [],
   "source": []
  },
  {
   "cell_type": "code",
   "execution_count": null,
   "metadata": {},
   "outputs": [],
   "source": []
  },
  {
   "cell_type": "code",
   "execution_count": null,
   "metadata": {},
   "outputs": [],
   "source": []
  },
  {
   "cell_type": "code",
   "execution_count": null,
   "metadata": {},
   "outputs": [],
   "source": []
  },
  {
   "cell_type": "code",
   "execution_count": null,
   "metadata": {},
   "outputs": [],
   "source": []
  }
 ],
 "metadata": {
  "kernelspec": {
   "display_name": "Python 3",
   "language": "python",
   "name": "python3"
  },
  "language_info": {
   "codemirror_mode": {
    "name": "ipython",
    "version": 3
   },
   "file_extension": ".py",
   "mimetype": "text/x-python",
   "name": "python",
   "nbconvert_exporter": "python",
   "pygments_lexer": "ipython3",
   "version": "3.8.5"
  }
 },
 "nbformat": 4,
 "nbformat_minor": 4
}
