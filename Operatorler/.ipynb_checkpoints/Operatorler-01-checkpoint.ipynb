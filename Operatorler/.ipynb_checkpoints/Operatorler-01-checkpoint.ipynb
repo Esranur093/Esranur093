{
 "cells": [
  {
   "cell_type": "markdown",
   "metadata": {},
   "source": [
    "## Operatorler nelerdir?"
   ]
  },
  {
   "cell_type": "markdown",
   "metadata": {},
   "source": [
    "##### Aritmetik operatorler: Toplama, Çıkarma, Çarpma, Tam Bölüm, Ondalıklı Bölüm, Mod Alma, Üs Alma\n",
    "##### Karşılaştırma islemlerinde kullanılan operatorler: ==, !=, >, <, >=,<=\n",
    "##### Mantıksal operatorler: AND, OR, NOT, \n",
    "##### Bit duzeyi islemlerde kullanılan operatorler: &, |, ^, ~, <<, >>\n",
    "##### Ekstra: in,not in, is, is not"
   ]
  },
  {
   "cell_type": "markdown",
   "metadata": {},
   "source": [
    "### Aritmetik Operatorler"
   ]
  },
  {
   "cell_type": "code",
   "execution_count": 1,
   "metadata": {},
   "outputs": [
    {
     "name": "stdout",
     "output_type": "stream",
     "text": [
      "8\n",
      "2\n",
      "15\n",
      "1\n",
      "1.6666666666666667\n",
      "2\n",
      "125\n"
     ]
    }
   ],
   "source": [
    "a,b=5,3\n",
    "toplam=a+b\n",
    "print(toplam)\n",
    "\n",
    "cikarma=a-b\n",
    "print(cikarma)\n",
    "\n",
    "carpma=a*b\n",
    "print(carpma)\n",
    "\n",
    "tamBolme=a//b\n",
    "print(tamBolme)\n",
    "\n",
    "ondalikliBolme=a/b\n",
    "print(ondalikliBolme)\n",
    "\n",
    "modAlma=a%b\n",
    "print(modAlma)\n",
    "\n",
    "usAlma=a**b\n",
    "print(usAlma)\n"
   ]
  },
  {
   "cell_type": "markdown",
   "metadata": {},
   "source": [
    "#### Aritmetik işlem ile atama işlemini aynı anda yapmak"
   ]
  },
  {
   "cell_type": "code",
   "execution_count": 5,
   "metadata": {},
   "outputs": [
    {
     "name": "stdout",
     "output_type": "stream",
     "text": [
      "5\n",
      "2\n",
      "15\n",
      "4\n"
     ]
    }
   ],
   "source": [
    "c,d=5,2\n",
    "print(c)\n",
    "print(d)\n",
    "c+=10\n",
    "d*=2\n",
    "print(c)\n",
    "print(d)"
   ]
  },
  {
   "cell_type": "markdown",
   "metadata": {},
   "source": [
    "#### İşlem Önceliği\n",
    "Matematiksel işlemler için kullandığımız işlem önceliğiyle tamamen aynıdır, parantez kullanarak işlem önceliği belirleyebiliriz"
   ]
  },
  {
   "cell_type": "code",
   "execution_count": 7,
   "metadata": {},
   "outputs": [
    {
     "name": "stdout",
     "output_type": "stream",
     "text": [
      "6.0\n",
      "0.6666666666666666\n"
     ]
    }
   ],
   "source": [
    "a=10/5*3\n",
    "b=10/(5*3)\n",
    "print(a)\n",
    "print(b)"
   ]
  }
 ],
 "metadata": {
  "kernelspec": {
   "display_name": "Python 3",
   "language": "python",
   "name": "python3"
  },
  "language_info": {
   "codemirror_mode": {
    "name": "ipython",
    "version": 3
   },
   "file_extension": ".py",
   "mimetype": "text/x-python",
   "name": "python",
   "nbconvert_exporter": "python",
   "pygments_lexer": "ipython3",
   "version": "3.8.5"
  }
 },
 "nbformat": 4,
 "nbformat_minor": 4
}
