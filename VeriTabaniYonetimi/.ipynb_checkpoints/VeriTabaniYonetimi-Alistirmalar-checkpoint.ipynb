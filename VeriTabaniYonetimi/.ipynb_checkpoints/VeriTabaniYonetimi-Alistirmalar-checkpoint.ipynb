{
 "cells": [
  {
   "cell_type": "markdown",
   "metadata": {},
   "source": [
    "## Veri Tabanı Yönetimi- Alıştırmalar"
   ]
  },
  {
   "cell_type": "markdown",
   "metadata": {},
   "source": [
    "## Öğrenci Not Sistemi"
   ]
  },
  {
   "cell_type": "markdown",
   "metadata": {},
   "source": [
    "1. Ogrenci Ekleme\n",
    "2. Ogrenci Silme\n",
    "3. Ogrenci Listeleme\n",
    "4. Ogrenci Notu Guncelleme\n",
    "5. Ogrencileri Notlara Gore Filtreleme"
   ]
  },
  {
   "cell_type": "code",
   "execution_count": 1,
   "metadata": {},
   "outputs": [],
   "source": [
    "import sqlite3\n",
    "\n",
    "class Ogrenci:\n",
    "    ogrenciListesi=[]\n",
    "    def __init__(self,isim,soyisim,no,puan):\n",
    "        self.isim=isim\n",
    "        self.soyisim=soyisim\n",
    "        self.ogrenciNo=no\n",
    "        self.puan=puan\n",
    "        \n",
    "    @classmethod\n",
    "    def ogrenciEkle(cls,isim,soyisim,ogrenciNo,puan):\n",
    "        yeniOgrenci=Ogrenci(isim,soyisim,ogrenciNo,puan)\n",
    "        cls.ogrenciListesi.append(yeniOgrenci)\n",
    "        \n",
    "    @classmethod\n",
    "    def listeyiYazdir(cls):\n",
    "        for ogrenci in cls.ogrenciListesi:\n",
    "            print(\"Ogrenci Adi:{}, Ogrenci Soyadi:{},Ogrenci No:{},Ogrenci Puan:{}\".format(ogrenci.isim,ogrenci.soyisim,ogrenci.ogrenciNo,ogrenci.puan))\n",
    "            \n",
    "class VeriTabaniBaglantisi:\n",
    "    def __init__(self,veriTabaniIsim,tabloIsim):\n",
    "        self.veritabani=sqlite3.connect(veriTabaniIsim)\n",
    "        self.imlec=self.veritabani.cursor()\n",
    "        self.tablo=tabloIsim\n",
    "        self.imlec.execute(\"CREATE TABLE IF NOT EXISTS {}(OgrenciAdi nvarchar(20),OgrenciSoyadi nvarchar(20),OgrenciNo INTEGER PRIMARY KEY AUTOINCREMENT,OgrenciPuan INTEGER)\".format(self.tablo))\n",
    "        \n",
    "    "
   ]
  },
  {
   "cell_type": "code",
   "execution_count": 2,
   "metadata": {},
   "outputs": [],
   "source": [
    "veritabani=VeriTabaniBaglantisi(\"OgrenciNotSistemi.db\",\"Ogrenci\")"
   ]
  },
  {
   "cell_type": "code",
   "execution_count": null,
   "metadata": {},
   "outputs": [],
   "source": []
  },
  {
   "cell_type": "code",
   "execution_count": null,
   "metadata": {},
   "outputs": [],
   "source": []
  },
  {
   "cell_type": "code",
   "execution_count": null,
   "metadata": {},
   "outputs": [],
   "source": []
  },
  {
   "cell_type": "code",
   "execution_count": null,
   "metadata": {},
   "outputs": [],
   "source": []
  },
  {
   "cell_type": "code",
   "execution_count": null,
   "metadata": {},
   "outputs": [],
   "source": []
  },
  {
   "cell_type": "code",
   "execution_count": null,
   "metadata": {},
   "outputs": [],
   "source": []
  },
  {
   "cell_type": "code",
   "execution_count": null,
   "metadata": {},
   "outputs": [],
   "source": []
  },
  {
   "cell_type": "code",
   "execution_count": null,
   "metadata": {},
   "outputs": [],
   "source": []
  }
 ],
 "metadata": {
  "kernelspec": {
   "display_name": "Python 3",
   "language": "python",
   "name": "python3"
  },
  "language_info": {
   "codemirror_mode": {
    "name": "ipython",
    "version": 3
   },
   "file_extension": ".py",
   "mimetype": "text/x-python",
   "name": "python",
   "nbconvert_exporter": "python",
   "pygments_lexer": "ipython3",
   "version": "3.8.5"
  }
 },
 "nbformat": 4,
 "nbformat_minor": 4
}
