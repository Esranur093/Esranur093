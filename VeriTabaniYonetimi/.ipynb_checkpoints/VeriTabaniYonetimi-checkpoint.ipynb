{
 "cells": [
  {
   "cell_type": "markdown",
   "metadata": {},
   "source": [
    "## Veri Tabanı Yönetimi(SqLite)"
   ]
  },
  {
   "cell_type": "markdown",
   "metadata": {},
   "source": [
    "#### Neden İhtiyacımız Var?\n",
    "\n",
    "Veritabanı, verileri kalıcı ve düzenli bir şekilde saklamamızı, verileri güncellememizi-silmemizi ve yeni veri eklememizi sağlayan veri yığınlarıdır. Veritabanında veriler satır ve sütun şeklinde saklanır. Her bir sütuna veriyle alakalı hangi verinin nasıl saklanacağı bilgisi yazılır, her bir ayrı veri ise satırlara kaydedilir.\n",
    "\n",
    "Örneğin;\n",
    "\n",
    "            ogrenciAdi,ogrenciSoyadi,ogrenciNo\n",
    "           1.Ogun      Birinci        1\n",
    "           2.Beril     Kucukdilek     2\n",
    "           3.Ahmet     Ozer           3\n",
    "           4.Aleyna    Unsal          4\n",
    "           5.Elzem     Yazici         5\n",
    "           6.Elif      Kalmac         6\n",
    "           \n",
    "Gördüğünüz gibi,yukarıdaki yapı bir tablo olarak ifade edilir; sütunlardaki veriler hep ilişkiseldir. Her bir satırdaki veri ise bir öğrencinin verilerini tutar.\n",
    "\n",
    "#### Nasıl Yöneteceğiz?\n",
    "Birçok programlama dilinde veritabanı yönetmek için temel SQL sorguları mevcuttur. Biz de Python programlama dilinde hazır olarak sunulmuş SqLite kütüphanesini kullanarak SQL sorguları ile veritabanını yöneteceğiz.\n",
    "1. Veri Ekleme(Create)\n",
    "2. Veri Alma(Read)\n",
    "3. Veri Güncelleme(Update)\n",
    "4. Veri Silme(Delete)\n"
   ]
  },
  {
   "cell_type": "markdown",
   "metadata": {},
   "source": [
    "#### Veri Tabanı Oluşturma - Bağlanma ve connect() Fonksiyonu\n",
    "\n",
    "##### Syntax Yapısı\n",
    "sqlite3.connect(\"veritabani_adi.uzanti\")\n",
    "\n",
    "Buradaki uzantı .sqlite veya .db olabilir, eğer ki verdiğiniz isim ile bir veri tabanı yoksa bulunduğunuz dizin veya verdiğiniz dizine bu veritabanı oluşturulur eğer ki varsa bağlantı kurulur."
   ]
  },
  {
   "cell_type": "code",
   "execution_count": null,
   "metadata": {},
   "outputs": [],
   "source": []
  },
  {
   "cell_type": "markdown",
   "metadata": {},
   "source": [
    "#### İmleç(Cursor) Tanımlama\n",
    "\n",
    "##### Neden İhtiyacımız Var?\n",
    "\n",
    "Oluşturduğumuz veya bağlantı kurduğumuz veri tabanı üzerinde işlem yapabilmemiz için bir adet cursor(imleç) oluşturmamız gerekiyor. Tüm işlemleri de bu imleci kullanarak yapacağız."
   ]
  },
  {
   "cell_type": "code",
   "execution_count": null,
   "metadata": {},
   "outputs": [],
   "source": []
  },
  {
   "cell_type": "markdown",
   "metadata": {},
   "source": [
    "#### Tablo Oluşturma, Veri Tipleri\n",
    "\n",
    "Tabloları oluştururken yazılacak verilerin veri tiplerini önceden belirtmemiz gerekiyor, bu veri tipleri;\n",
    "\n",
    "1. INTEGER: Tam sayılar için\n",
    "2. REAL: Ondalıklı sayılar için\n",
    "3. TEXT: Karakter dizileri için\n",
    "4. BLOB: Binary format için\n",
    "kullanılıyor.\n",
    "\n",
    "Bir tabloyu oluşturmak için sorgu içerisinde CREATE komutu kullanmamız gerekiyor, syntax yapısı şu şekilde;\n",
    "\n",
    "CREATE TABLE tablo_adi(sutun1,sutun2,sutun3...)\"\n",
    "\n",
    "Bu komutu çalıştırmak için ise oluşturduğumuz imleç ile birlikte execute() fonksiyonunu kullanmamız gerekiyor"
   ]
  },
  {
   "cell_type": "code",
   "execution_count": null,
   "metadata": {},
   "outputs": [],
   "source": []
  },
  {
   "cell_type": "markdown",
   "metadata": {},
   "source": [
    "#### DİKKAT\n",
    "Eğer ki tablo zaten var ise, tekrar oluşturmaya çalıştığımızda hata alırız!"
   ]
  },
  {
   "cell_type": "code",
   "execution_count": null,
   "metadata": {},
   "outputs": [],
   "source": []
  },
  {
   "cell_type": "markdown",
   "metadata": {},
   "source": [
    "#### Bunu nasıl engelleriz?\n",
    "IF NOT EXISTS komutu ile engelleyebiliriz; eğer ki tablo yok ise  anlamına geliyor."
   ]
  },
  {
   "cell_type": "code",
   "execution_count": null,
   "metadata": {},
   "outputs": [],
   "source": []
  },
  {
   "cell_type": "markdown",
   "metadata": {},
   "source": [
    "#### Tabloya Kayıt Ekleme\n",
    "\n",
    "Bir tabloya yeni kayıt eklemek aslında yeni bir satır eklemek anlamına geliyor, bunun için de INSERT INTO komutunu kullanıyoruz;\n",
    "\n",
    "INSERT INTO tablo_adi(sutun1,sutun2,sutun3..) VALUES(deger1,deger2,deger3..)\n",
    "\n",
    "İmleç ile ekleme,güncelleme veya silme yaptıktan sonra bu işlemler geçici bir veri kümesi üzerinde yapılır. Kalıcı olmasını istiyorsanız ve veritabanına yansımasını istiyorsanız commit() komutunu kullanmanız gerekir.\n",
    "\n"
   ]
  },
  {
   "cell_type": "code",
   "execution_count": null,
   "metadata": {},
   "outputs": [],
   "source": []
  },
  {
   "cell_type": "code",
   "execution_count": null,
   "metadata": {},
   "outputs": [],
   "source": []
  },
  {
   "cell_type": "markdown",
   "metadata": {},
   "source": [
    "##### Parametre ile Ekleme\n",
    "\n",
    "Bazı durumlarda dışarıdan gelen verilere göre ekleme yapmamız gerekebilir. Bu durumlarda VALUES() kısmına ne yazacağız? Bu durumlarda VALUES(?) şeklinde yazarak ardından parametreyi vereceğiz."
   ]
  },
  {
   "cell_type": "code",
   "execution_count": null,
   "metadata": {},
   "outputs": [],
   "source": []
  },
  {
   "cell_type": "markdown",
   "metadata": {},
   "source": [
    "#### Kayıt Listeleme\n",
    "\n",
    "Bir tablodaki verileri veya verilerin bir kısmını görüntülemek,listelemek,almak için SELECT komutu kullanıyoruz, şu şekilde;\n",
    "\n",
    "SELECT sutun1,sutun2,sutun3... FROM tablo_adi WHERE sorgu_kosulu"
   ]
  },
  {
   "cell_type": "code",
   "execution_count": null,
   "metadata": {},
   "outputs": [],
   "source": []
  },
  {
   "cell_type": "markdown",
   "metadata": {},
   "source": [
    "#### Verilerin Görüntülenmesi\n",
    "\n",
    "SELECT komutuyla verileri alabileceğimizi-listeleyebileceğimizi az önce görmüştük, peki bu verileri nasıl alacağız? nasıl görüntüleyeceğiz?\n",
    "\n",
    "1. FETCHALL: SELECT ile getirilen tüm verileri almak için kullanılır.\n",
    "2. FETCHONE: SELECT ile getirilen tek bir satır veriyi okumak için kullanılır, her çağırıldığında bir sonraki satır okunur.\n",
    "3. FETCHMANY: SELECT ile getirilen verilerden istediğimiz kadar satır okumak için kullanılır."
   ]
  },
  {
   "cell_type": "code",
   "execution_count": null,
   "metadata": {},
   "outputs": [],
   "source": []
  },
  {
   "cell_type": "code",
   "execution_count": null,
   "metadata": {},
   "outputs": [],
   "source": []
  },
  {
   "cell_type": "code",
   "execution_count": null,
   "metadata": {},
   "outputs": [],
   "source": []
  },
  {
   "cell_type": "markdown",
   "metadata": {},
   "source": [
    "#### İmleç Üzerinden Veri Okuma\n",
    "\n",
    "Fonksiyon kullanmadan direkt olarak SELECT ile getirilen verileri imlec üzerinden okuyabiliriz;"
   ]
  },
  {
   "cell_type": "code",
   "execution_count": null,
   "metadata": {},
   "outputs": [],
   "source": []
  },
  {
   "cell_type": "markdown",
   "metadata": {},
   "source": [
    "#### Kayıt Güncelleme\n",
    "\n",
    "Bir tablodaki verileri güncellemek istiyorsak UPDATE komutunu kullanıyoruz, şu şekilde;\n",
    "\n",
    "UPDATE tablo_adi SET sutun1=yeni_deger1,sutun2=yeni_deger2..."
   ]
  },
  {
   "cell_type": "code",
   "execution_count": null,
   "metadata": {},
   "outputs": [],
   "source": []
  },
  {
   "cell_type": "markdown",
   "metadata": {},
   "source": [
    "##### DİKKAT\n",
    "Eğer ki spesifik bir sorguya göre güncelleme yapmazsanız tüm satırları etkiler!\n",
    "\n",
    "Peki nasıl koşul ekleyeceğiz? WHERE komutu ile sorgulamalar yapabiliriz."
   ]
  },
  {
   "cell_type": "code",
   "execution_count": null,
   "metadata": {},
   "outputs": [],
   "source": []
  },
  {
   "cell_type": "markdown",
   "metadata": {},
   "source": [
    "#### Kayıt Silme\n",
    "\n",
    "Bir tablodan veri silmek istiyorsak DELETE FROM komutunu kullanıyoruz, şu şekilde;\n",
    "\n",
    "DELETE FROM tablo_adi WHERE silme_kosulu"
   ]
  },
  {
   "cell_type": "code",
   "execution_count": null,
   "metadata": {},
   "outputs": [],
   "source": []
  },
  {
   "cell_type": "markdown",
   "metadata": {},
   "source": [
    "#### Veri Tabanı Bağlantısının Kesilmesi\n",
    "\n",
    "Veritabanı üzerinde işlemleri yaptıktan sonra veritabanı bağlantısını close() fonksiyonu ile kesmemiz gerekiyor."
   ]
  },
  {
   "cell_type": "code",
   "execution_count": null,
   "metadata": {},
   "outputs": [],
   "source": []
  }
 ],
 "metadata": {
  "kernelspec": {
   "display_name": "Python 3",
   "language": "python",
   "name": "python3"
  },
  "language_info": {
   "codemirror_mode": {
    "name": "ipython",
    "version": 3
   },
   "file_extension": ".py",
   "mimetype": "text/x-python",
   "name": "python",
   "nbconvert_exporter": "python",
   "pygments_lexer": "ipython3",
   "version": "3.8.5"
  }
 },
 "nbformat": 4,
 "nbformat_minor": 4
}
